{
 "cells": [
  {
   "cell_type": "code",
   "execution_count": 1,
   "id": "fd08c013",
   "metadata": {},
   "outputs": [],
   "source": [
    "import numpy as np\n",
    "import pandas as pd\n",
    "import random\n",
    "import matplotlib.pyplot as plt\n",
    "# import statistics \n",
    "# import collections\n",
    "# import seaborn as sns"
   ]
  },
  {
   "cell_type": "code",
   "execution_count": 2,
   "id": "d3ed240a",
   "metadata": {},
   "outputs": [],
   "source": [
    "class JUGGLER:\n",
    "    def __init__(self,name,prob):\n",
    "        self.name = name\n",
    "        self.prob = prob"
   ]
  },
  {
   "cell_type": "code",
   "execution_count": 3,
   "id": "41ea8537",
   "metadata": {},
   "outputs": [
    {
     "data": {
      "text/html": [
       "<div>\n",
       "<style scoped>\n",
       "    .dataframe tbody tr th:only-of-type {\n",
       "        vertical-align: middle;\n",
       "    }\n",
       "\n",
       "    .dataframe tbody tr th {\n",
       "        vertical-align: top;\n",
       "    }\n",
       "\n",
       "    .dataframe thead th {\n",
       "        text-align: right;\n",
       "    }\n",
       "</style>\n",
       "<table border=\"1\" class=\"dataframe\">\n",
       "  <thead>\n",
       "    <tr style=\"text-align: right;\">\n",
       "      <th></th>\n",
       "      <th>BIG</th>\n",
       "      <th>REG</th>\n",
       "      <th>ピエロ</th>\n",
       "      <th>ベル</th>\n",
       "      <th>ぶどう</th>\n",
       "      <th>リプレイ</th>\n",
       "      <th>チェリー</th>\n",
       "    </tr>\n",
       "  </thead>\n",
       "  <tbody>\n",
       "    <tr>\n",
       "      <th>設定1</th>\n",
       "      <td>0.003663</td>\n",
       "      <td>0.002278</td>\n",
       "      <td>0.000916</td>\n",
       "      <td>0.000916</td>\n",
       "      <td>0.154107</td>\n",
       "      <td>0.137024</td>\n",
       "      <td>0.03003</td>\n",
       "    </tr>\n",
       "    <tr>\n",
       "      <th>設定2</th>\n",
       "      <td>0.003708</td>\n",
       "      <td>0.002503</td>\n",
       "      <td>0.000916</td>\n",
       "      <td>0.000916</td>\n",
       "      <td>0.154107</td>\n",
       "      <td>0.137024</td>\n",
       "      <td>0.03003</td>\n",
       "    </tr>\n",
       "    <tr>\n",
       "      <th>設定3</th>\n",
       "      <td>0.003708</td>\n",
       "      <td>0.003021</td>\n",
       "      <td>0.000916</td>\n",
       "      <td>0.000916</td>\n",
       "      <td>0.154107</td>\n",
       "      <td>0.137024</td>\n",
       "      <td>0.03003</td>\n",
       "    </tr>\n",
       "    <tr>\n",
       "      <th>設定4</th>\n",
       "      <td>0.003861</td>\n",
       "      <td>0.003174</td>\n",
       "      <td>0.000916</td>\n",
       "      <td>0.000916</td>\n",
       "      <td>0.154107</td>\n",
       "      <td>0.137024</td>\n",
       "      <td>0.03003</td>\n",
       "    </tr>\n",
       "    <tr>\n",
       "      <th>設定5</th>\n",
       "      <td>0.003861</td>\n",
       "      <td>0.003920</td>\n",
       "      <td>0.000916</td>\n",
       "      <td>0.000916</td>\n",
       "      <td>0.154107</td>\n",
       "      <td>0.137024</td>\n",
       "      <td>0.03003</td>\n",
       "    </tr>\n",
       "    <tr>\n",
       "      <th>設定6</th>\n",
       "      <td>0.003922</td>\n",
       "      <td>0.003920</td>\n",
       "      <td>0.000916</td>\n",
       "      <td>0.000916</td>\n",
       "      <td>0.161734</td>\n",
       "      <td>0.137024</td>\n",
       "      <td>0.03003</td>\n",
       "    </tr>\n",
       "  </tbody>\n",
       "</table>\n",
       "</div>"
      ],
      "text/plain": [
       "          BIG       REG       ピエロ        ベル       ぶどう      リプレイ     チェリー\n",
       "設定1  0.003663  0.002278  0.000916  0.000916  0.154107  0.137024  0.03003\n",
       "設定2  0.003708  0.002503  0.000916  0.000916  0.154107  0.137024  0.03003\n",
       "設定3  0.003708  0.003021  0.000916  0.000916  0.154107  0.137024  0.03003\n",
       "設定4  0.003861  0.003174  0.000916  0.000916  0.154107  0.137024  0.03003\n",
       "設定5  0.003861  0.003920  0.000916  0.000916  0.154107  0.137024  0.03003\n",
       "設定6  0.003922  0.003920  0.000916  0.000916  0.161734  0.137024  0.03003"
      ]
     },
     "execution_count": 3,
     "metadata": {},
     "output_type": "execute_result"
    }
   ],
   "source": [
    "prob=[[1/273,1/439,1/1092.27,1/1092.27,1/6.489,1/7.298,1/33.3], \n",
    "      [1/269.7,1/399.6,1/1092.27,1/1092.27,1/6.489,1/7.298,1/33.3], \n",
    "      [1/269.7,1/331,1/1092.27,1/1092.27,1/6.489,1/7.298,1/33.3],\n",
    "      [1/259,1/315.1,1/1092.27,1/1092.27,1/6.489,1/7.298,1/33.3],\n",
    "      [1/259,1/255.1,1/1092.27,1/1092.27,1/6.489,1/7.298,1/33.3],\n",
    "      [1/255,1/255.1,1/1092.27,1/1092.27,1/6.183,1/7.298,1/33.3]]\n",
    "#アイムジャグラー6号機の確率\n",
    "index1 = [\"設定1\", \"設定2\", \"設定3\",\"設定4\", \"設定5\", \"設定6\"]\n",
    "columns1 =[\"BIG\", \"REG\", \"ピエロ\",\"ベル\", \"ぶどう\",\"リプレイ\", \"チェリー\"]\n",
    "df = pd.DataFrame(data=prob, index=index1, columns=columns1)\n",
    "df"
   ]
  },
  {
   "cell_type": "code",
   "execution_count": 4,
   "id": "65c7ae9d",
   "metadata": {},
   "outputs": [],
   "source": [
    "#役払い出し\n",
    "BB = 252\n",
    "RB = 96\n",
    "GRAPE = 5\n",
    "CHERRY = -2\n",
    "PIERROT = 7\n",
    "BELL = 11"
   ]
  },
  {
   "cell_type": "code",
   "execution_count": 5,
   "id": "a2967716",
   "metadata": {},
   "outputs": [
    {
     "name": "stdout",
     "output_type": "stream",
     "text": [
      "設定2\n",
      "試行回数10\n",
      "一試行あたりG数3000000\n",
      "[差枚数]\n",
      "[機械割]\n",
      "-338546枚\n",
      "89%\n",
      "-307195枚\n",
      "90%\n",
      "-331480枚\n",
      "89%\n"
     ]
    },
    {
     "ename": "KeyboardInterrupt",
     "evalue": "",
     "output_type": "error",
     "traceback": [
      "\u001b[1;31m---------------------------------------------------------------------------\u001b[0m",
      "\u001b[1;31mKeyboardInterrupt\u001b[0m                         Traceback (most recent call last)",
      "\u001b[1;32m<ipython-input-5-9bcc1589291e>\u001b[0m in \u001b[0;36m<module>\u001b[1;34m\u001b[0m\n\u001b[0;32m     88\u001b[0m \u001b[1;32mfor\u001b[0m \u001b[0msim\u001b[0m \u001b[1;32min\u001b[0m \u001b[0mrange\u001b[0m \u001b[1;33m(\u001b[0m\u001b[0mSHIKOU\u001b[0m\u001b[1;33m)\u001b[0m\u001b[1;33m:\u001b[0m\u001b[1;33m\u001b[0m\u001b[1;33m\u001b[0m\u001b[0m\n\u001b[0;32m     89\u001b[0m \u001b[1;31m#     i = random.randrange(1,7)\u001b[0m\u001b[1;33m\u001b[0m\u001b[1;33m\u001b[0m\u001b[1;33m\u001b[0m\u001b[0m\n\u001b[1;32m---> 90\u001b[1;33m     \u001b[0msimulation\u001b[0m \u001b[1;33m(\u001b[0m\u001b[0mSETTEI\u001b[0m\u001b[1;33m,\u001b[0m\u001b[0mKAI\u001b[0m\u001b[1;33m)\u001b[0m\u001b[1;33m\u001b[0m\u001b[1;33m\u001b[0m\u001b[0m\n\u001b[0m\u001b[0;32m     91\u001b[0m \u001b[1;33m\u001b[0m\u001b[0m\n\u001b[0;32m     92\u001b[0m \u001b[1;33m\u001b[0m\u001b[0m\n",
      "\u001b[1;32m<ipython-input-5-9bcc1589291e>\u001b[0m in \u001b[0;36msimulation\u001b[1;34m(SETTEI, KAI)\u001b[0m\n\u001b[0;32m     27\u001b[0m \u001b[1;33m\u001b[0m\u001b[0m\n\u001b[0;32m     28\u001b[0m     \u001b[1;32mfor\u001b[0m \u001b[0msim\u001b[0m \u001b[1;32min\u001b[0m \u001b[0mrange\u001b[0m \u001b[1;33m(\u001b[0m\u001b[1;36m1\u001b[0m\u001b[1;33m,\u001b[0m\u001b[0mKAI\u001b[0m\u001b[1;33m+\u001b[0m\u001b[1;36m1\u001b[0m\u001b[1;33m)\u001b[0m\u001b[1;33m:\u001b[0m\u001b[1;33m\u001b[0m\u001b[1;33m\u001b[0m\u001b[0m\n\u001b[1;32m---> 29\u001b[1;33m         \u001b[0mhantei\u001b[0m \u001b[1;33m=\u001b[0m \u001b[0mrandom\u001b[0m\u001b[1;33m.\u001b[0m\u001b[0mrandom\u001b[0m\u001b[1;33m(\u001b[0m\u001b[1;33m)\u001b[0m\u001b[1;33m\u001b[0m\u001b[1;33m\u001b[0m\u001b[0m\n\u001b[0m\u001b[0;32m     30\u001b[0m \u001b[1;33m\u001b[0m\u001b[0m\n\u001b[0;32m     31\u001b[0m         \u001b[1;32mif\u001b[0m \u001b[0mhantei\u001b[0m \u001b[1;33m<=\u001b[0m \u001b[1;33m(\u001b[0m\u001b[0mPROB_BB\u001b[0m\u001b[1;33m)\u001b[0m\u001b[1;33m:\u001b[0m\u001b[1;33m\u001b[0m\u001b[1;33m\u001b[0m\u001b[0m\n",
      "\u001b[1;31mKeyboardInterrupt\u001b[0m: "
     ]
    },
    {
     "data": {
      "image/png": "[encoded data removed]",
      "text/plain": [
       "<Figure size 432x288 with 1 Axes>"
      ]
     },
     "metadata": {
      "needs_background": "light"
     },
     "output_type": "display_data"
    }
   ],
   "source": [
    "SETTEI =2\n",
    "SHIKOU = 10\n",
    "KAI = 3000000\n",
    "print(\"設定\" + str(SETTEI))\n",
    "print(\"試行回数\" + str(SHIKOU))\n",
    "print(\"一試行あたりG数\" + str(KAI))\n",
    "print(\"[差枚数]\" )\n",
    "print(\"[機械割]\" )\n",
    "\n",
    "\n",
    "def simulation (SETTEI,KAI):#設定、回数での入賞数と差枚数  \n",
    "    bb = 0\n",
    "    rb = 0\n",
    "    grape = 0\n",
    "    medal = 0\n",
    "    sum_medal =[]\n",
    "    n = SETTEI -1\n",
    "\n",
    "    PROB_BB = df.iat[n,0]\n",
    "    PROB_RB = PROB_BB + df.iat[n,1]    \n",
    "    PROB_PIERROT = PROB_RB + df.iat[n,2]\n",
    "    PROB_BELL = PROB_PIERROT + df.iat[n,3]\n",
    "    PROB_GRAPE = PROB_BELL + df.iat[n,4]\n",
    "    PROB_REPLAY = PROB_GRAPE + df.iat[n,5]\n",
    "    PROB_CHERRY = PROB_REPLAY + df.iat[n,6]\n",
    "\n",
    "    \n",
    "    for sim in range (1,KAI+1):\n",
    "        hantei = random.random()\n",
    "\n",
    "        if hantei <= (PROB_BB):\n",
    "            medal += BB\n",
    "            sum_medal.append(medal)\n",
    "            bb += 1\n",
    "\n",
    "        elif hantei <= (PROB_RB):\n",
    "            medal += RB\n",
    "            sum_medal.append(medal)\n",
    "            rb += 1\n",
    "            \n",
    "        elif hantei <= (PROB_PIERROT):\n",
    "            medal += PIERROT\n",
    "            sum_medal.append(medal)\n",
    "        \n",
    "        elif hantei <= (PROB_BELL):\n",
    "            medal += BELL\n",
    "            sum_medal.append(medal)\n",
    "\n",
    "        elif hantei <= (PROB_GRAPE):\n",
    "            medal += GRAPE\n",
    "            sum_medal.append(medal)\n",
    "            grape += 1\n",
    "\n",
    "        elif hantei <= (PROB_REPLAY):\n",
    "            medal += 0\n",
    "            sum_medal.append(medal)\n",
    "\n",
    "        elif hantei <= (PROB_CHERRY):\n",
    "            medal += CHERRY\n",
    "            sum_medal.append(medal)   \n",
    "\n",
    "        else :\n",
    "            medal += -3\n",
    "            sum_medal.append(medal)\n",
    "\n",
    "    bb_ratio = round((KAI+1 )/ bb)\n",
    "    rb_ratio = round((KAI+1) / rb)\n",
    "    grape_ratio = round((KAI+1) / grape , 3)\n",
    "        \n",
    "    print(str(medal)+\"枚\")\n",
    "    percentage =round((1+medal/ (KAI))*100)\n",
    "    print(str(percentage)+\"%\")\n",
    "    \n",
    "    #設定域判別（教師データ用）\n",
    "    if SETTEI <= 2:\n",
    "        SETTEI = -1\n",
    "    elif SETTEI <=4:\n",
    "        SETTEI = 0\n",
    "    else:\n",
    "        SETTEI = 1\n",
    "        \n",
    "    df2 = pd.DataFrame([[SETTEI,bb_ratio, rb_ratio, grape_ratio,medal]],columns=[\"設定\",'BB', 'RB', 'ぶどう','差枚数'])\n",
    "    df2.to_csv(r\"C:\\Users\\stone/juggler.csv\", mode = 'a', header = False, index = False)\n",
    "    \n",
    "    plt.plot(sum_medal)\n",
    "    \n",
    "\n",
    "for sim in range (SHIKOU):\n",
    "#     i = random.randrange(1,7)\n",
    "    simulation (SETTEI,KAI)\n",
    "\n",
    "\n",
    "#平均差枚数とヒストグラム作成\n",
    "# print(sum(medal))"
   ]
  },
  {
   "cell_type": "code",
   "execution_count": null,
   "id": "68c28b2f",
   "metadata": {},
   "outputs": [],
   "source": [
    "df3 = pd.read_csv(r\"C:\\Users\\stone/juggler.csv\",header=None, names=[\"設定\",'BB', 'RB', 'ぶどう','差枚数'])   \n",
    "df3"
   ]
  },
  {
   "cell_type": "code",
   "execution_count": null,
   "id": "50b804a7",
   "metadata": {},
   "outputs": [],
   "source": [
    "Y = df3[\"設定\"]\n",
    "Y.values.reshape(-1,1)\n",
    "X = df3[[\"BB\",\"RB\",\"ぶどう\",\"差枚数\"]]"
   ]
  },
  {
   "cell_type": "code",
   "execution_count": null,
   "id": "9677787a",
   "metadata": {},
   "outputs": [],
   "source": [
    "from sklearn.model_selection import train_test_split \n",
    "X_train,X_test,Y_train,Y_test = train_test_split(X,Y,random_state = 0)"
   ]
  },
  {
   "cell_type": "code",
   "execution_count": null,
   "id": "7f3bd7ce",
   "metadata": {},
   "outputs": [],
   "source": [
    "from sklearn.linear_model import LogisticRegression"
   ]
  },
  {
   "cell_type": "code",
   "execution_count": null,
   "id": "d634214d",
   "metadata": {
    "scrolled": true
   },
   "outputs": [],
   "source": [
    "model = LogisticRegression()\n",
    "model.fit(X_train,Y_train)\n",
    "score = model.score(X_test, Y_test)\n",
    "pred = model.predict(X_test)\n",
    "\n",
    "print(score)"
   ]
  },
  {
   "cell_type": "code",
   "execution_count": null,
   "id": "ffe160ee",
   "metadata": {},
   "outputs": [],
   "source": []
  },
  {
   "cell_type": "code",
   "execution_count": null,
   "id": "542deaef",
   "metadata": {},
   "outputs": [],
   "source": []
  },
  {
   "cell_type": "code",
   "execution_count": null,
   "id": "5a326e44",
   "metadata": {},
   "outputs": [],
   "source": []
  },
  {
   "cell_type": "code",
   "execution_count": null,
   "id": "7d39ca73",
   "metadata": {},
   "outputs": [],
   "source": []
  }
 ],
 "metadata": {
  "kernelspec": {
   "display_name": "Python 3",
   "language": "python",
   "name": "python3"
  },
  "language_info": {
   "codemirror_mode": {
    "name": "ipython",
    "version": 3
   },
   "file_extension": ".py",
   "mimetype": "text/x-python",
   "name": "python",
   "nbconvert_exporter": "python",
   "pygments_lexer": "ipython3",
   "version": "3.8.8"
  }
 },
 "nbformat": 4,
 "nbformat_minor": 5
}
